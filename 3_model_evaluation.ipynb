{
 "cells": [
  {
   "cell_type": "markdown",
   "id": "fd2b7b67-d2bc-4c7e-8849-3d2cfbad8195",
   "metadata": {},
   "source": [
    "# Model Evaluation\n",
    "### Beatrice Brown-Mulry"
   ]
  },
  {
   "cell_type": "markdown",
   "id": "7e50a5c9-0e25-4a77-bc91-1cc917c9c5a0",
   "metadata": {},
   "source": [
    "---\n",
    "## Contents:\n",
    "- **0. Model Inference**\n",
    "- **1. Evaluation Metrics**\n",
    "- **2. Subgroup Evaluation**\n",
    "- **3. Modeling Best Practices**"
   ]
  },
  {
   "cell_type": "markdown",
   "id": "7172ea82-c7cd-4b13-b4c9-ed4a6b7dc5bd",
   "metadata": {},
   "source": [
    "---\n",
    "# 0. Loading our Predictions"
   ]
  },
  {
   "cell_type": "markdown",
   "id": "b11b1694-6433-404b-a637-3171bd41b4b2",
   "metadata": {},
   "source": [
    "You should be using the `pandas` environment. The only packages you should need to download are `scikit-learn` (`sklearn`) and `statsmodel` which are shown below."
   ]
  },
  {
   "cell_type": "code",
   "execution_count": 106,
   "id": "f1490d2d-6691-4361-a13c-16b2eec01066",
   "metadata": {},
   "outputs": [
    {
     "name": "stdout",
     "output_type": "stream",
     "text": [
      "\u001b[33mWARNING: The directory '/home/jupyter-beatrice/.cache/pip' or its parent directory is not owned or is not writable by the current user. The cache has been disabled. Check the permissions and owner of that directory. If executing pip with sudo, you should use sudo's -H flag.\u001b[0m\u001b[33m\n",
      "\u001b[0mDefaulting to user installation because normal site-packages is not writeable\n",
      "Requirement already satisfied: scikit-learn in /home/jupyter-beatrice/.local/lib/python3.11/site-packages (1.5.1)\n",
      "Requirement already satisfied: numpy>=1.19.5 in /opt/tljh/user/envs/pandas/lib/python3.11/site-packages (from scikit-learn) (2.0.1)\n",
      "Requirement already satisfied: scipy>=1.6.0 in /opt/tljh/user/envs/pandas/lib/python3.11/site-packages (from scikit-learn) (1.14.0)\n",
      "Requirement already satisfied: joblib>=1.2.0 in /home/jupyter-beatrice/.local/lib/python3.11/site-packages (from scikit-learn) (1.4.2)\n",
      "Requirement already satisfied: threadpoolctl>=3.1.0 in /home/jupyter-beatrice/.local/lib/python3.11/site-packages (from scikit-learn) (3.5.0)\n",
      "Note: you may need to restart the kernel to use updated packages.\n",
      "\u001b[33mWARNING: The directory '/home/jupyter-beatrice/.cache/pip' or its parent directory is not owned or is not writable by the current user. The cache has been disabled. Check the permissions and owner of that directory. If executing pip with sudo, you should use sudo's -H flag.\u001b[0m\u001b[33m\n",
      "\u001b[0mDefaulting to user installation because normal site-packages is not writeable\n",
      "Requirement already satisfied: statsmodels in /opt/tljh/user/envs/pandas/lib/python3.11/site-packages (0.14.2)\n",
      "Requirement already satisfied: numpy>=1.22.3 in /opt/tljh/user/envs/pandas/lib/python3.11/site-packages (from statsmodels) (2.0.1)\n",
      "Requirement already satisfied: scipy!=1.9.2,>=1.8 in /opt/tljh/user/envs/pandas/lib/python3.11/site-packages (from statsmodels) (1.14.0)\n",
      "Requirement already satisfied: pandas!=2.1.0,>=1.4 in /opt/tljh/user/envs/pandas/lib/python3.11/site-packages (from statsmodels) (2.2.2)\n",
      "Requirement already satisfied: patsy>=0.5.6 in /opt/tljh/user/envs/pandas/lib/python3.11/site-packages (from statsmodels) (0.5.6)\n",
      "Requirement already satisfied: packaging>=21.3 in /opt/tljh/user/envs/pandas/lib/python3.11/site-packages (from statsmodels) (24.1)\n",
      "Requirement already satisfied: python-dateutil>=2.8.2 in /opt/tljh/user/envs/pandas/lib/python3.11/site-packages (from pandas!=2.1.0,>=1.4->statsmodels) (2.9.0.post0)\n",
      "Requirement already satisfied: pytz>=2020.1 in /opt/tljh/user/envs/pandas/lib/python3.11/site-packages (from pandas!=2.1.0,>=1.4->statsmodels) (2024.1)\n",
      "Requirement already satisfied: tzdata>=2022.7 in /opt/tljh/user/envs/pandas/lib/python3.11/site-packages (from pandas!=2.1.0,>=1.4->statsmodels) (2024.1)\n",
      "Requirement already satisfied: six in /opt/tljh/user/envs/pandas/lib/python3.11/site-packages (from patsy>=0.5.6->statsmodels) (1.16.0)\n",
      "Note: you may need to restart the kernel to use updated packages.\n"
     ]
    }
   ],
   "source": [
    "%pip install scikit-learn\n",
    "%pip install statsmodels"
   ]
  },
  {
   "cell_type": "code",
   "execution_count": 1,
   "id": "c6643b62-465a-47b2-8d71-fd142b71c91b",
   "metadata": {},
   "outputs": [],
   "source": [
    "import os\n",
    "from tqdm import tqdm\n",
    "import pandas as pd\n",
    "import numpy as np\n",
    "from sklearn.metrics import auc, RocCurveDisplay, roc_curve, classification_report, confusion_matrix, ConfusionMatrixDisplay"
   ]
  },
  {
   "cell_type": "code",
   "execution_count": 2,
   "id": "8b967e35-a9c5-4ae1-8e8e-f31c418d6804",
   "metadata": {},
   "outputs": [],
   "source": [
    "def dataframe_stats(df, title: str or None = None):\n",
    "    \"\"\"\n",
    "    helper function to check the number of patients, exams, and images/findings in a df\n",
    "    \"\"\"\n",
    "    if title is not None:\n",
    "        print(f\"\\n{title}\")\n",
    "        \n",
    "    num_patients = df.empi_anon.nunique()\n",
    "    num_exams = df.acc_anon.nunique()\n",
    "    \n",
    "    print(f\"Patients: {num_patients}\")\n",
    "    print(f\"Exams: {num_exams}\")\n",
    "    \n",
    "    if 'png_path' in df.columns:\n",
    "        print(f\"Images: {df.png_path.nunique()}\\n\")\n",
    "    else:\n",
    "        print(f\"Findings: {len(df)}\\n\")"
   ]
  },
  {
   "cell_type": "code",
   "execution_count": 3,
   "id": "61e45b1e-54a3-44b1-8c3a-9f1d360d8935",
   "metadata": {},
   "outputs": [
    {
     "data": {
      "text/html": [
       "<div>\n",
       "<style scoped>\n",
       "    .dataframe tbody tr th:only-of-type {\n",
       "        vertical-align: middle;\n",
       "    }\n",
       "\n",
       "    .dataframe tbody tr th {\n",
       "        vertical-align: top;\n",
       "    }\n",
       "\n",
       "    .dataframe thead th {\n",
       "        text-align: right;\n",
       "    }\n",
       "</style>\n",
       "<table border=\"1\" class=\"dataframe\">\n",
       "  <thead>\n",
       "    <tr style=\"text-align: right;\">\n",
       "      <th></th>\n",
       "      <th>png_path</th>\n",
       "      <th>prediction</th>\n",
       "      <th>truth</th>\n",
       "    </tr>\n",
       "  </thead>\n",
       "  <tbody>\n",
       "    <tr>\n",
       "      <th>0</th>\n",
       "      <td>/fsx/embed/emory-mammo/images/png/cohort_10/ex...</td>\n",
       "      <td>0.426943</td>\n",
       "      <td>1</td>\n",
       "    </tr>\n",
       "    <tr>\n",
       "      <th>1</th>\n",
       "      <td>/fsx/embed/emory-mammo/images/png/cohort_10/ex...</td>\n",
       "      <td>0.469375</td>\n",
       "      <td>1</td>\n",
       "    </tr>\n",
       "    <tr>\n",
       "      <th>2</th>\n",
       "      <td>/fsx/embed/emory-mammo/images/png/cohort_1/ext...</td>\n",
       "      <td>0.288646</td>\n",
       "      <td>1</td>\n",
       "    </tr>\n",
       "    <tr>\n",
       "      <th>3</th>\n",
       "      <td>/fsx/embed/emory-mammo/images/png/cohort_1/ext...</td>\n",
       "      <td>0.307292</td>\n",
       "      <td>1</td>\n",
       "    </tr>\n",
       "    <tr>\n",
       "      <th>4</th>\n",
       "      <td>/fsx/embed/emory-mammo/images/png/cohort_1/ext...</td>\n",
       "      <td>0.309218</td>\n",
       "      <td>1</td>\n",
       "    </tr>\n",
       "    <tr>\n",
       "      <th>...</th>\n",
       "      <td>...</td>\n",
       "      <td>...</td>\n",
       "      <td>...</td>\n",
       "    </tr>\n",
       "    <tr>\n",
       "      <th>18894</th>\n",
       "      <td>/fsx/embed/emory-mammo/images/png/cohort_1/ext...</td>\n",
       "      <td>0.391145</td>\n",
       "      <td>0</td>\n",
       "    </tr>\n",
       "    <tr>\n",
       "      <th>18895</th>\n",
       "      <td>/fsx/embed/emory-mammo/images/png/cohort_1/ext...</td>\n",
       "      <td>0.346059</td>\n",
       "      <td>0</td>\n",
       "    </tr>\n",
       "    <tr>\n",
       "      <th>18896</th>\n",
       "      <td>/fsx/embed/emory-mammo/images/png/cohort_1/ext...</td>\n",
       "      <td>0.319508</td>\n",
       "      <td>0</td>\n",
       "    </tr>\n",
       "    <tr>\n",
       "      <th>18897</th>\n",
       "      <td>/fsx/embed/emory-mammo/images/png/cohort_1/ext...</td>\n",
       "      <td>0.371289</td>\n",
       "      <td>0</td>\n",
       "    </tr>\n",
       "    <tr>\n",
       "      <th>18898</th>\n",
       "      <td>/fsx/embed/emory-mammo/images/png/cohort_1/ext...</td>\n",
       "      <td>0.323685</td>\n",
       "      <td>0</td>\n",
       "    </tr>\n",
       "  </tbody>\n",
       "</table>\n",
       "<p>18899 rows × 3 columns</p>\n",
       "</div>"
      ],
      "text/plain": [
       "                                                png_path  prediction  truth\n",
       "0      /fsx/embed/emory-mammo/images/png/cohort_10/ex...    0.426943      1\n",
       "1      /fsx/embed/emory-mammo/images/png/cohort_10/ex...    0.469375      1\n",
       "2      /fsx/embed/emory-mammo/images/png/cohort_1/ext...    0.288646      1\n",
       "3      /fsx/embed/emory-mammo/images/png/cohort_1/ext...    0.307292      1\n",
       "4      /fsx/embed/emory-mammo/images/png/cohort_1/ext...    0.309218      1\n",
       "...                                                  ...         ...    ...\n",
       "18894  /fsx/embed/emory-mammo/images/png/cohort_1/ext...    0.391145      0\n",
       "18895  /fsx/embed/emory-mammo/images/png/cohort_1/ext...    0.346059      0\n",
       "18896  /fsx/embed/emory-mammo/images/png/cohort_1/ext...    0.319508      0\n",
       "18897  /fsx/embed/emory-mammo/images/png/cohort_1/ext...    0.371289      0\n",
       "18898  /fsx/embed/emory-mammo/images/png/cohort_1/ext...    0.323685      0\n",
       "\n",
       "[18899 rows x 3 columns]"
      ]
     },
     "execution_count": 3,
     "metadata": {},
     "output_type": "execute_result"
    }
   ],
   "source": [
    "inference_df = pd.read_csv('./datasets/embed_demo_result_complete.csv')\n",
    "\n",
    "col_dict = {'scores': 'prediction', 'session_label': 'truth'}\n",
    "inference_df.rename(columns=col_dict, inplace=True)\n",
    "inference_df"
   ]
  },
  {
   "cell_type": "code",
   "execution_count": 4,
   "id": "35efda05-67e1-4239-a69c-34021f8d5c70",
   "metadata": {},
   "outputs": [],
   "source": [
    "test_path_list = inference_df['png_path'].unique().tolist()"
   ]
  },
  {
   "cell_type": "code",
   "execution_count": 5,
   "id": "e61d9c6c-6794-4141-b131-7fd4fd172ea9",
   "metadata": {},
   "outputs": [
    {
     "name": "stdout",
     "output_type": "stream",
     "text": [
      "\n",
      "test set\n",
      "Patients: 4918\n",
      "Exams: 4918\n",
      "Images: 18899\n",
      "\n"
     ]
    },
    {
     "name": "stderr",
     "output_type": "stream",
     "text": [
      "/tmp/ipykernel_61315/2356673095.py:21: DtypeWarning: Columns (8,9,10,13) have mixed types. Specify dtype option on import or set low_memory=False.\n",
      "  test_df = pd.read_csv('./datasets/br0_vs_br12_test.csv')\n"
     ]
    }
   ],
   "source": [
    "REBUILD_TEST_SET = False\n",
    "\n",
    "# rebuild our test set if necessary (otherwise just load it)\n",
    "if REBUILD_TEST_SET:\n",
    "    # load our original data in\n",
    "    pos_df = pd.read_csv('./datasets/POSITIVE_BR0_GROUP.csv')\n",
    "    pos_df['label'] = 1\n",
    "    neg_df = pd.read_csv('./datasets/NEGATIVE_BR12_GROUP.csv')\n",
    "    neg_df['label'] = 0\n",
    "    \n",
    "    # concat our pos/neg sets\n",
    "    test_df = pd.concat([pos_df, neg_df])\n",
    "    # then drop any duplicate pngs\n",
    "    test_df.drop_duplicates(subset='png_path', inplace=True)\n",
    "    # and only retain images from the test set\n",
    "    test_df = test_df[test_df.png_path.isin(test_path_list)]\n",
    "    test_df.reset_index(inplace=True)\n",
    "    test_df.to_csv('./datasets/br0_vs_br12_test.csv', index=False)\n",
    "    \n",
    "else:\n",
    "    test_df = pd.read_csv('./datasets/br0_vs_br12_test.csv')\n",
    "\n",
    "dataframe_stats(test_df, 'test set')"
   ]
  },
  {
   "cell_type": "markdown",
   "id": "5804376e-a33b-4261-9bfb-2178601ac181",
   "metadata": {},
   "source": [
    "### Let's check our test set class balance"
   ]
  },
  {
   "cell_type": "code",
   "execution_count": 6,
   "id": "1df8c139-2737-48d0-9a96-6c13df38505d",
   "metadata": {},
   "outputs": [
    {
     "data": {
      "text/plain": [
       "label\n",
       "0    12146\n",
       "1     6753\n",
       "Name: count, dtype: int64"
      ]
     },
     "execution_count": 6,
     "metadata": {},
     "output_type": "execute_result"
    }
   ],
   "source": [
    "test_df.label.value_counts(dropna=False)"
   ]
  },
  {
   "cell_type": "code",
   "execution_count": 7,
   "id": "796dfc81-00e3-4c0d-b0b4-85f7fcf26d5e",
   "metadata": {},
   "outputs": [
    {
     "data": {
      "text/plain": [
       "label\n",
       "0    0.64268\n",
       "1    0.35732\n",
       "Name: proportion, dtype: float64"
      ]
     },
     "execution_count": 7,
     "metadata": {},
     "output_type": "execute_result"
    }
   ],
   "source": [
    "test_df.label.value_counts(dropna=False, normalize=True)"
   ]
  },
  {
   "cell_type": "markdown",
   "id": "9066f730-37be-4ab0-aa81-9dfb91460b90",
   "metadata": {},
   "source": [
    "### Now we have our test set and our predictions ready, we can index our predictions back to the original data so we can further analyze our results"
   ]
  },
  {
   "cell_type": "code",
   "execution_count": 8,
   "id": "9491a299-9adf-49a6-9715-e552dac935cb",
   "metadata": {},
   "outputs": [
    {
     "data": {
      "text/html": [
       "<div>\n",
       "<style scoped>\n",
       "    .dataframe tbody tr th:only-of-type {\n",
       "        vertical-align: middle;\n",
       "    }\n",
       "\n",
       "    .dataframe tbody tr th {\n",
       "        vertical-align: top;\n",
       "    }\n",
       "\n",
       "    .dataframe thead th {\n",
       "        text-align: right;\n",
       "    }\n",
       "</style>\n",
       "<table border=\"1\" class=\"dataframe\">\n",
       "  <thead>\n",
       "    <tr style=\"text-align: right;\">\n",
       "      <th></th>\n",
       "      <th>index</th>\n",
       "      <th>empi_anon</th>\n",
       "      <th>acc_anon</th>\n",
       "      <th>study_date_anon_x</th>\n",
       "      <th>desc</th>\n",
       "      <th>side</th>\n",
       "      <th>asses</th>\n",
       "      <th>path_severity</th>\n",
       "      <th>bside</th>\n",
       "      <th>procdate_anon</th>\n",
       "      <th>...</th>\n",
       "      <th>anon_dicom_path</th>\n",
       "      <th>StudyDescription</th>\n",
       "      <th>ROI_match_level</th>\n",
       "      <th>num_roi</th>\n",
       "      <th>PNG_ROI_coords</th>\n",
       "      <th>DCM_ROI_coords</th>\n",
       "      <th>spot_mag</th>\n",
       "      <th>label</th>\n",
       "      <th>prediction</th>\n",
       "      <th>truth</th>\n",
       "    </tr>\n",
       "  </thead>\n",
       "  <tbody>\n",
       "    <tr>\n",
       "      <th>0</th>\n",
       "      <td>0</td>\n",
       "      <td>10010842</td>\n",
       "      <td>2152357467079057</td>\n",
       "      <td>2014-07-05</td>\n",
       "      <td>MG Screen Bilat w/Tomo/CAD Stnd Protocol</td>\n",
       "      <td>L</td>\n",
       "      <td>A</td>\n",
       "      <td>4.0</td>\n",
       "      <td>L</td>\n",
       "      <td>2014-07-18</td>\n",
       "      <td>...</td>\n",
       "      <td>/fsx/embed/emory-mammo/images/dicom/cohort_10/...</td>\n",
       "      <td>MG Screen Bilat w/Tomo/CAD Stnd Protocol</td>\n",
       "      <td>[]</td>\n",
       "      <td>0.0</td>\n",
       "      <td>[]</td>\n",
       "      <td>NaN</td>\n",
       "      <td>NaN</td>\n",
       "      <td>1</td>\n",
       "      <td>0.426943</td>\n",
       "      <td>1</td>\n",
       "    </tr>\n",
       "    <tr>\n",
       "      <th>1</th>\n",
       "      <td>1</td>\n",
       "      <td>10010842</td>\n",
       "      <td>2152357467079057</td>\n",
       "      <td>2014-07-05</td>\n",
       "      <td>MG Screen Bilat w/Tomo/CAD Stnd Protocol</td>\n",
       "      <td>L</td>\n",
       "      <td>A</td>\n",
       "      <td>4.0</td>\n",
       "      <td>L</td>\n",
       "      <td>2014-07-18</td>\n",
       "      <td>...</td>\n",
       "      <td>/fsx/embed/emory-mammo/images/dicom/cohort_10/...</td>\n",
       "      <td>MG Screen Bilat w/Tomo/CAD Stnd Protocol</td>\n",
       "      <td>[]</td>\n",
       "      <td>0.0</td>\n",
       "      <td>[]</td>\n",
       "      <td>NaN</td>\n",
       "      <td>NaN</td>\n",
       "      <td>1</td>\n",
       "      <td>0.469375</td>\n",
       "      <td>1</td>\n",
       "    </tr>\n",
       "    <tr>\n",
       "      <th>2</th>\n",
       "      <td>18</td>\n",
       "      <td>10044241</td>\n",
       "      <td>3993319361430024</td>\n",
       "      <td>2019-07-27</td>\n",
       "      <td>MG Screen Bilat w/Tomo/CAD Stnd Protocol</td>\n",
       "      <td>L</td>\n",
       "      <td>A</td>\n",
       "      <td>NaN</td>\n",
       "      <td>NaN</td>\n",
       "      <td>NaN</td>\n",
       "      <td>...</td>\n",
       "      <td>/fsx/embed/emory-mammo/images/dicom/cohort_1/1...</td>\n",
       "      <td>MG Screen Bilat w/Tomo/CAD Stnd Protocol</td>\n",
       "      <td>[]</td>\n",
       "      <td>0.0</td>\n",
       "      <td>[]</td>\n",
       "      <td>NaN</td>\n",
       "      <td>NaN</td>\n",
       "      <td>1</td>\n",
       "      <td>0.288646</td>\n",
       "      <td>1</td>\n",
       "    </tr>\n",
       "    <tr>\n",
       "      <th>3</th>\n",
       "      <td>19</td>\n",
       "      <td>10044241</td>\n",
       "      <td>3993319361430024</td>\n",
       "      <td>2019-07-27</td>\n",
       "      <td>MG Screen Bilat w/Tomo/CAD Stnd Protocol</td>\n",
       "      <td>L</td>\n",
       "      <td>A</td>\n",
       "      <td>NaN</td>\n",
       "      <td>NaN</td>\n",
       "      <td>NaN</td>\n",
       "      <td>...</td>\n",
       "      <td>/fsx/embed/emory-mammo/images/dicom/cohort_1/1...</td>\n",
       "      <td>MG Screen Bilat w/Tomo/CAD Stnd Protocol</td>\n",
       "      <td>[['1']]</td>\n",
       "      <td>1.0</td>\n",
       "      <td>[[[1561, 864, 3182, 1753]]]</td>\n",
       "      <td>[[[1561, 864, 3182, 1753]]]</td>\n",
       "      <td>NaN</td>\n",
       "      <td>1</td>\n",
       "      <td>0.307292</td>\n",
       "      <td>1</td>\n",
       "    </tr>\n",
       "    <tr>\n",
       "      <th>4</th>\n",
       "      <td>20</td>\n",
       "      <td>10044241</td>\n",
       "      <td>3993319361430024</td>\n",
       "      <td>2019-07-27</td>\n",
       "      <td>MG Screen Bilat w/Tomo/CAD Stnd Protocol</td>\n",
       "      <td>L</td>\n",
       "      <td>A</td>\n",
       "      <td>NaN</td>\n",
       "      <td>NaN</td>\n",
       "      <td>NaN</td>\n",
       "      <td>...</td>\n",
       "      <td>/fsx/embed/emory-mammo/images/dicom/cohort_1/1...</td>\n",
       "      <td>MG Screen Bilat w/Tomo/CAD Stnd Protocol</td>\n",
       "      <td>[['1']]</td>\n",
       "      <td>1.0</td>\n",
       "      <td>[[[892, 298, 2319, 1477]]]</td>\n",
       "      <td>[[[892, 298, 2319, 1477]]]</td>\n",
       "      <td>NaN</td>\n",
       "      <td>1</td>\n",
       "      <td>0.309218</td>\n",
       "      <td>1</td>\n",
       "    </tr>\n",
       "    <tr>\n",
       "      <th>...</th>\n",
       "      <td>...</td>\n",
       "      <td>...</td>\n",
       "      <td>...</td>\n",
       "      <td>...</td>\n",
       "      <td>...</td>\n",
       "      <td>...</td>\n",
       "      <td>...</td>\n",
       "      <td>...</td>\n",
       "      <td>...</td>\n",
       "      <td>...</td>\n",
       "      <td>...</td>\n",
       "      <td>...</td>\n",
       "      <td>...</td>\n",
       "      <td>...</td>\n",
       "      <td>...</td>\n",
       "      <td>...</td>\n",
       "      <td>...</td>\n",
       "      <td>...</td>\n",
       "      <td>...</td>\n",
       "      <td>...</td>\n",
       "      <td>...</td>\n",
       "    </tr>\n",
       "    <tr>\n",
       "      <th>18894</th>\n",
       "      <td>61088</td>\n",
       "      <td>99986224</td>\n",
       "      <td>7287112295028243</td>\n",
       "      <td>2016-05-18</td>\n",
       "      <td>MG Screen Bilat w/Tomo/CAD Stnd Protocol</td>\n",
       "      <td>L</td>\n",
       "      <td>N</td>\n",
       "      <td>NaN</td>\n",
       "      <td>NaN</td>\n",
       "      <td>NaN</td>\n",
       "      <td>...</td>\n",
       "      <td>/fsx/embed/emory-mammo/images/dicom/cohort_1/9...</td>\n",
       "      <td>MG Screen Bilat w/Tomo/CAD Stnd Protocol</td>\n",
       "      <td>[]</td>\n",
       "      <td>0.0</td>\n",
       "      <td>[]</td>\n",
       "      <td>NaN</td>\n",
       "      <td>NaN</td>\n",
       "      <td>0</td>\n",
       "      <td>0.391145</td>\n",
       "      <td>0</td>\n",
       "    </tr>\n",
       "    <tr>\n",
       "      <th>18895</th>\n",
       "      <td>61089</td>\n",
       "      <td>99986224</td>\n",
       "      <td>7287112295028243</td>\n",
       "      <td>2016-05-18</td>\n",
       "      <td>MG Screen Bilat w/Tomo/CAD Stnd Protocol</td>\n",
       "      <td>L</td>\n",
       "      <td>N</td>\n",
       "      <td>NaN</td>\n",
       "      <td>NaN</td>\n",
       "      <td>NaN</td>\n",
       "      <td>...</td>\n",
       "      <td>/fsx/embed/emory-mammo/images/dicom/cohort_1/9...</td>\n",
       "      <td>MG Screen Bilat w/Tomo/CAD Stnd Protocol</td>\n",
       "      <td>[]</td>\n",
       "      <td>0.0</td>\n",
       "      <td>[]</td>\n",
       "      <td>NaN</td>\n",
       "      <td>NaN</td>\n",
       "      <td>0</td>\n",
       "      <td>0.346059</td>\n",
       "      <td>0</td>\n",
       "    </tr>\n",
       "    <tr>\n",
       "      <th>18896</th>\n",
       "      <td>61090</td>\n",
       "      <td>99986224</td>\n",
       "      <td>7287112295028243</td>\n",
       "      <td>2016-05-18</td>\n",
       "      <td>MG Screen Bilat w/Tomo/CAD Stnd Protocol</td>\n",
       "      <td>R</td>\n",
       "      <td>N</td>\n",
       "      <td>NaN</td>\n",
       "      <td>NaN</td>\n",
       "      <td>NaN</td>\n",
       "      <td>...</td>\n",
       "      <td>/fsx/embed/emory-mammo/images/dicom/cohort_1/9...</td>\n",
       "      <td>MG Screen Bilat w/Tomo/CAD Stnd Protocol</td>\n",
       "      <td>[]</td>\n",
       "      <td>0.0</td>\n",
       "      <td>[]</td>\n",
       "      <td>NaN</td>\n",
       "      <td>NaN</td>\n",
       "      <td>0</td>\n",
       "      <td>0.319508</td>\n",
       "      <td>0</td>\n",
       "    </tr>\n",
       "    <tr>\n",
       "      <th>18897</th>\n",
       "      <td>61091</td>\n",
       "      <td>99986224</td>\n",
       "      <td>7287112295028243</td>\n",
       "      <td>2016-05-18</td>\n",
       "      <td>MG Screen Bilat w/Tomo/CAD Stnd Protocol</td>\n",
       "      <td>R</td>\n",
       "      <td>N</td>\n",
       "      <td>NaN</td>\n",
       "      <td>NaN</td>\n",
       "      <td>NaN</td>\n",
       "      <td>...</td>\n",
       "      <td>/fsx/embed/emory-mammo/images/dicom/cohort_1/9...</td>\n",
       "      <td>MG Screen Bilat w/Tomo/CAD Stnd Protocol</td>\n",
       "      <td>[]</td>\n",
       "      <td>0.0</td>\n",
       "      <td>[]</td>\n",
       "      <td>NaN</td>\n",
       "      <td>NaN</td>\n",
       "      <td>0</td>\n",
       "      <td>0.371289</td>\n",
       "      <td>0</td>\n",
       "    </tr>\n",
       "    <tr>\n",
       "      <th>18898</th>\n",
       "      <td>61092</td>\n",
       "      <td>99986224</td>\n",
       "      <td>7287112295028243</td>\n",
       "      <td>2016-05-18</td>\n",
       "      <td>MG Screen Bilat w/Tomo/CAD Stnd Protocol</td>\n",
       "      <td>R</td>\n",
       "      <td>N</td>\n",
       "      <td>NaN</td>\n",
       "      <td>NaN</td>\n",
       "      <td>NaN</td>\n",
       "      <td>...</td>\n",
       "      <td>/fsx/embed/emory-mammo/images/dicom/cohort_1/9...</td>\n",
       "      <td>MG Screen Bilat w/Tomo/CAD Stnd Protocol</td>\n",
       "      <td>[]</td>\n",
       "      <td>0.0</td>\n",
       "      <td>[]</td>\n",
       "      <td>NaN</td>\n",
       "      <td>NaN</td>\n",
       "      <td>0</td>\n",
       "      <td>0.323685</td>\n",
       "      <td>0</td>\n",
       "    </tr>\n",
       "  </tbody>\n",
       "</table>\n",
       "<p>18899 rows × 39 columns</p>\n",
       "</div>"
      ],
      "text/plain": [
       "       index  empi_anon          acc_anon study_date_anon_x  \\\n",
       "0          0   10010842  2152357467079057        2014-07-05   \n",
       "1          1   10010842  2152357467079057        2014-07-05   \n",
       "2         18   10044241  3993319361430024        2019-07-27   \n",
       "3         19   10044241  3993319361430024        2019-07-27   \n",
       "4         20   10044241  3993319361430024        2019-07-27   \n",
       "...      ...        ...               ...               ...   \n",
       "18894  61088   99986224  7287112295028243        2016-05-18   \n",
       "18895  61089   99986224  7287112295028243        2016-05-18   \n",
       "18896  61090   99986224  7287112295028243        2016-05-18   \n",
       "18897  61091   99986224  7287112295028243        2016-05-18   \n",
       "18898  61092   99986224  7287112295028243        2016-05-18   \n",
       "\n",
       "                                           desc side asses  path_severity  \\\n",
       "0      MG Screen Bilat w/Tomo/CAD Stnd Protocol    L     A            4.0   \n",
       "1      MG Screen Bilat w/Tomo/CAD Stnd Protocol    L     A            4.0   \n",
       "2      MG Screen Bilat w/Tomo/CAD Stnd Protocol    L     A            NaN   \n",
       "3      MG Screen Bilat w/Tomo/CAD Stnd Protocol    L     A            NaN   \n",
       "4      MG Screen Bilat w/Tomo/CAD Stnd Protocol    L     A            NaN   \n",
       "...                                         ...  ...   ...            ...   \n",
       "18894  MG Screen Bilat w/Tomo/CAD Stnd Protocol    L     N            NaN   \n",
       "18895  MG Screen Bilat w/Tomo/CAD Stnd Protocol    L     N            NaN   \n",
       "18896  MG Screen Bilat w/Tomo/CAD Stnd Protocol    R     N            NaN   \n",
       "18897  MG Screen Bilat w/Tomo/CAD Stnd Protocol    R     N            NaN   \n",
       "18898  MG Screen Bilat w/Tomo/CAD Stnd Protocol    R     N            NaN   \n",
       "\n",
       "      bside procdate_anon  ...  \\\n",
       "0         L    2014-07-18  ...   \n",
       "1         L    2014-07-18  ...   \n",
       "2       NaN           NaN  ...   \n",
       "3       NaN           NaN  ...   \n",
       "4       NaN           NaN  ...   \n",
       "...     ...           ...  ...   \n",
       "18894   NaN           NaN  ...   \n",
       "18895   NaN           NaN  ...   \n",
       "18896   NaN           NaN  ...   \n",
       "18897   NaN           NaN  ...   \n",
       "18898   NaN           NaN  ...   \n",
       "\n",
       "                                         anon_dicom_path  \\\n",
       "0      /fsx/embed/emory-mammo/images/dicom/cohort_10/...   \n",
       "1      /fsx/embed/emory-mammo/images/dicom/cohort_10/...   \n",
       "2      /fsx/embed/emory-mammo/images/dicom/cohort_1/1...   \n",
       "3      /fsx/embed/emory-mammo/images/dicom/cohort_1/1...   \n",
       "4      /fsx/embed/emory-mammo/images/dicom/cohort_1/1...   \n",
       "...                                                  ...   \n",
       "18894  /fsx/embed/emory-mammo/images/dicom/cohort_1/9...   \n",
       "18895  /fsx/embed/emory-mammo/images/dicom/cohort_1/9...   \n",
       "18896  /fsx/embed/emory-mammo/images/dicom/cohort_1/9...   \n",
       "18897  /fsx/embed/emory-mammo/images/dicom/cohort_1/9...   \n",
       "18898  /fsx/embed/emory-mammo/images/dicom/cohort_1/9...   \n",
       "\n",
       "                               StudyDescription ROI_match_level num_roi  \\\n",
       "0      MG Screen Bilat w/Tomo/CAD Stnd Protocol              []     0.0   \n",
       "1      MG Screen Bilat w/Tomo/CAD Stnd Protocol              []     0.0   \n",
       "2      MG Screen Bilat w/Tomo/CAD Stnd Protocol              []     0.0   \n",
       "3      MG Screen Bilat w/Tomo/CAD Stnd Protocol         [['1']]     1.0   \n",
       "4      MG Screen Bilat w/Tomo/CAD Stnd Protocol         [['1']]     1.0   \n",
       "...                                         ...             ...     ...   \n",
       "18894  MG Screen Bilat w/Tomo/CAD Stnd Protocol              []     0.0   \n",
       "18895  MG Screen Bilat w/Tomo/CAD Stnd Protocol              []     0.0   \n",
       "18896  MG Screen Bilat w/Tomo/CAD Stnd Protocol              []     0.0   \n",
       "18897  MG Screen Bilat w/Tomo/CAD Stnd Protocol              []     0.0   \n",
       "18898  MG Screen Bilat w/Tomo/CAD Stnd Protocol              []     0.0   \n",
       "\n",
       "                    PNG_ROI_coords               DCM_ROI_coords  spot_mag  \\\n",
       "0                               []                          NaN       NaN   \n",
       "1                               []                          NaN       NaN   \n",
       "2                               []                          NaN       NaN   \n",
       "3      [[[1561, 864, 3182, 1753]]]  [[[1561, 864, 3182, 1753]]]       NaN   \n",
       "4       [[[892, 298, 2319, 1477]]]   [[[892, 298, 2319, 1477]]]       NaN   \n",
       "...                            ...                          ...       ...   \n",
       "18894                           []                          NaN       NaN   \n",
       "18895                           []                          NaN       NaN   \n",
       "18896                           []                          NaN       NaN   \n",
       "18897                           []                          NaN       NaN   \n",
       "18898                           []                          NaN       NaN   \n",
       "\n",
       "       label prediction truth  \n",
       "0          1   0.426943     1  \n",
       "1          1   0.469375     1  \n",
       "2          1   0.288646     1  \n",
       "3          1   0.307292     1  \n",
       "4          1   0.309218     1  \n",
       "...      ...        ...   ...  \n",
       "18894      0   0.391145     0  \n",
       "18895      0   0.346059     0  \n",
       "18896      0   0.319508     0  \n",
       "18897      0   0.371289     0  \n",
       "18898      0   0.323685     0  \n",
       "\n",
       "[18899 rows x 39 columns]"
      ]
     },
     "execution_count": 8,
     "metadata": {},
     "output_type": "execute_result"
    }
   ],
   "source": [
    "# merge on our image-level index (png_path in this case)\n",
    "test_preds_df = test_df.merge(inference_df, on='png_path', how='inner')\n",
    "test_preds_df"
   ]
  },
  {
   "cell_type": "markdown",
   "id": "7c93e6aa-ce36-4d28-a712-ee95473fd32e",
   "metadata": {},
   "source": [
    "---\n",
    "# 1.0 Evaluation Metrics"
   ]
  },
  {
   "cell_type": "markdown",
   "id": "88802bad-a0a5-456a-a40a-3ce73116bcde",
   "metadata": {},
   "source": [
    "The following metrics are generally appropriate for evaluating binary classification tasks. Multiclass or multi-label classification commonly uses similar metrics but many are adjusted or calculated for each class and averaged. Other modeling tasks such as segmentation commonly use metrics like DICE or the Jaccard index (also known as the Intersection over Union (IoU)). There are countless different evaluation metrics but we'll review some of the most common examples."
   ]
  },
  {
   "cell_type": "markdown",
   "id": "45244efa-23df-4255-b6cb-d6fa3681b3ee",
   "metadata": {},
   "source": [
    "Many of the most common metrics are thresholded, so we'll first define an arbitrary threshold (0.5 in this case) and use it to binarize our predictions. We'll define any probabilities above 0.5 as positive predictions (coded as 1), and all values equal to or below 0.5 as negative predictions (coded as 0).\n",
    "\n",
    "These binary predictions can then be used to determine whether each prediction is a true positive (TP), true negative (TN), false positive (FP), or false negative (FN). These classifications are often used to determine error rates like the false positive rate (FPR) or false negative rate (FNR) which can be useful for evaluating model failure modes."
   ]
  },
  {
   "cell_type": "markdown",
   "id": "f28881da-fa88-4d32-9fa4-5cc50f8a9de5",
   "metadata": {},
   "source": [
    "> **Question: What are false positives (FP) and false negatives (FN) in the context of a breast cancer classification model?**\n",
    "\n",
    "> **Question: Depending on the context, are all error types equally severe?**"
   ]
  },
  {
   "cell_type": "markdown",
   "id": "9df56ab3-6988-4286-9c63-330e4ab52130",
   "metadata": {},
   "source": [
    "## 1.1 Confusion Matrices"
   ]
  },
  {
   "cell_type": "markdown",
   "id": "b804198f-16a1-40c9-879a-3498f720a42d",
   "metadata": {},
   "source": [
    "![conf_matrix_example](images/conf_matrix_example.png)"
   ]
  },
  {
   "cell_type": "markdown",
   "id": "ea80542d-773e-4de4-a916-a519ca85dc96",
   "metadata": {},
   "source": [
    "## 1.2 Accuracy"
   ]
  },
  {
   "cell_type": "markdown",
   "id": "e0932881-453d-4700-973a-b4b8fab1c45c",
   "metadata": {},
   "source": [
    "### $\\text{Accuracy} = \\frac{TP + TN}{TP + TN + FP + FN}$"
   ]
  },
  {
   "cell_type": "markdown",
   "id": "733ddc4e-7ea5-4e78-b6d9-17d8c0cb0a50",
   "metadata": {},
   "source": [
    "**Accuracy** is a commonly used metric and one of the easiest to understand. In simple terms it expresses the percentage of observations that were classified correctly. It can be calculated by dividing the number of true predictions by the total number of predictions.\n",
    "\n",
    "> **Question: Is high accuracy always a sign of a good model? Are there any situations where high accuracy can be misleading?**"
   ]
  },
  {
   "cell_type": "code",
   "execution_count": 9,
   "id": "60547770-359e-413c-b8a0-edb212d497a1",
   "metadata": {},
   "outputs": [],
   "source": [
    "def get_accuracy(tp, tn, fp, fn):\n",
    "    return (tp + tn) / (tp + tn + fp + fn)"
   ]
  },
  {
   "cell_type": "code",
   "execution_count": null,
   "id": "878c2141-f929-493e-a5b1-7665dca0b974",
   "metadata": {},
   "outputs": [],
   "source": []
  },
  {
   "cell_type": "markdown",
   "id": "ba4adfef-5872-42b8-816c-61ea8d367a9d",
   "metadata": {},
   "source": [
    "## 1.3 Precision/Recall"
   ]
  },
  {
   "cell_type": "markdown",
   "id": "958f9cf9-30a7-4564-83f3-91d07285b348",
   "metadata": {},
   "source": [
    "### $\\text{Precision} = \\frac{TP}{TP + FP}$\n",
    "### $\\text{Recall} = \\frac{TP}{TP + FN}$"
   ]
  },
  {
   "cell_type": "markdown",
   "id": "bdfbbc61-89c8-4935-b604-e672c3acfb1e",
   "metadata": {},
   "source": [
    "**Precision** measures what proportion of positive predictions were actually positive. It can be calculated by dividing the number of true positives by the total number of positive predictions (true positives and false positives). A high precision indicates that most of your models positive predictions are *actually* positive.\n",
    "\n",
    "**Recall** is also known as **Sensitivity**, **True Positive Rate (TPR)**, or the **probability of detection**. Recall is calculated by dividing the number of true positives (correctly classified positives) by the total number of positives (both true positives and positives that were misclassified as negative). It expresses how many of the actual positives were correctly classified as positive. A high recall indicates that your model correctly predicted most observations in the positive class.\n",
    "\n",
    "> **Question: Your model has high precision but low recall. What might this suggest about the model's performance?**\n",
    "\n",
    "> **Question: Conversely, what could a high recall and low precision suggest?**\n",
    "\n",
    "The interactive demo on the page below demonstrates the (generally!) inverse relationship between precision and recall.\n",
    "https://developers.google.com/machine-learning/crash-course/classification/accuracy-precision-recall"
   ]
  },
  {
   "cell_type": "code",
   "execution_count": 10,
   "id": "65d656cd-e984-43ba-9158-520d60c4e559",
   "metadata": {},
   "outputs": [],
   "source": [
    "def get_precision(tp, tn, fp, fn, eps=1e-7):\n",
    "    return tp / (tp + fp + eps)\n",
    "\n",
    "def get_recall(tp, tn, fp, fn, eps=1e-7):\n",
    "    return tp / (tp + fn + eps)"
   ]
  },
  {
   "cell_type": "markdown",
   "id": "0a33a795-0ca0-4e38-bdc1-3f82414a81e1",
   "metadata": {},
   "source": [
    "## 1.4 F1 Score"
   ]
  },
  {
   "cell_type": "markdown",
   "id": "d334d6ec-c010-4b90-867b-b29beae2108b",
   "metadata": {},
   "source": [
    "### $\\text{F1} = \\frac{2 * Precision * Recall}{Precision + Recall}$"
   ]
  },
  {
   "cell_type": "markdown",
   "id": "15cb388e-3aed-47dd-b455-d5b6289c1a8b",
   "metadata": {},
   "source": [
    "The **F1 score** is the harmonic mean of the precision and recall. It can offer a more-comprehensive view of model performance than precision or recall alone by capturing the tradeoff between them. F1 score is fairly resilient to imbalanced data and can be a good choice compared to alternatives like accuracy.\n",
    "\n",
    "> BEA INPUT !!!: EXPAND ON THIS, DISCUSS MACRO vs MICRO AVERAGED F1"
   ]
  },
  {
   "cell_type": "code",
   "execution_count": 11,
   "id": "a588ce36-9484-4fff-9bdc-306e857c9ab6",
   "metadata": {},
   "outputs": [],
   "source": [
    "def get_f1(prec, rec, eps=1e-7):\n",
    "    return (2 * prec * rec)/(prec + rec + eps)"
   ]
  },
  {
   "cell_type": "markdown",
   "id": "061872ad-bb39-4650-b129-3d3db1e2450f",
   "metadata": {},
   "source": [
    "## 1.5 Sensitivity/Specificity"
   ]
  },
  {
   "cell_type": "markdown",
   "id": "1b17d318-8bbd-470b-a4c0-0bbbf9597dfc",
   "metadata": {},
   "source": [
    "### $\\text{Sensitivity} = \\frac{TP}{TP + FN}$\n",
    "### $\\text{Specificity} = \\frac{TN}{TN + FP}$"
   ]
  },
  {
   "cell_type": "code",
   "execution_count": 12,
   "id": "4fb1b184-55f3-49d4-a33f-2bd44adfa6f4",
   "metadata": {},
   "outputs": [],
   "source": [
    "def get_sensitivity(tp, tn, fp, fn, eps=1e-7):\n",
    "    return tp / (tp + fn + eps)\n",
    "\n",
    "def get_specificity(tp, tn, fp, fn, eps=1e-7):\n",
    "    return tn / (tn + fp + eps)"
   ]
  },
  {
   "cell_type": "markdown",
   "id": "299358f4-af04-4360-b9e5-ce1ee6e5f94e",
   "metadata": {},
   "source": [
    "## 1.6 AUROC"
   ]
  },
  {
   "cell_type": "markdown",
   "id": "7d3d19e3-5a12-405b-8af7-25ed7fb5f71a",
   "metadata": {},
   "source": [
    "The **AUROC**, or **Area Under the Receiver Operating Curve** is commonly referred to as the **AUC**. Unlike metrics like accuracy, precision, recall, and others, the AUROC does not depend on a single threshold to classify probabilities. Instead it captures how the variance of model performance at different threshold levels. It's commonly used, but can be misleading in some cases since it doesn't capture the classification performance at a single chosen threshold.\n",
    "\n",
    "> **Question: Your model has a high AUROC but a low accuracy, what might this suggest?**"
   ]
  },
  {
   "cell_type": "code",
   "execution_count": 13,
   "id": "147f55b9-359d-4917-86a6-4c9be6608719",
   "metadata": {},
   "outputs": [
    {
     "name": "stdout",
     "output_type": "stream",
     "text": [
      "auroc: 0.629\n"
     ]
    },
    {
     "data": {
      "image/png": "[encoded data removed]",
      "text/plain": [
       "<Figure size 640x480 with 1 Axes>"
      ]
     },
     "metadata": {},
     "output_type": "display_data"
    }
   ],
   "source": [
    "def get_auroc(truth, preds):\n",
    "    roc_fpr, roc_tpr, _ = roc_curve(truth, preds)\n",
    "    return auc(roc_fpr, roc_tpr)\n",
    "\n",
    "display = RocCurveDisplay.from_predictions(\n",
    "    test_preds_df.truth, # truth\n",
    "    test_preds_df.prediction # predicted probabilities\n",
    ")\n",
    "_ = display.ax_.set_title(\"Receiver Operating Characteristic (ROC) Curve\")\n",
    "\n",
    "auroc = get_auroc(test_preds_df.truth, test_preds_df.prediction)\n",
    "print(f'auroc: {auroc:.3f}')"
   ]
  },
  {
   "cell_type": "code",
   "execution_count": null,
   "id": "cc0907a2-25f1-4cd8-baca-83a1e93cd0b6",
   "metadata": {},
   "outputs": [],
   "source": []
  },
  {
   "cell_type": "code",
   "execution_count": null,
   "id": "b1df7f44-5c8e-4f13-bcf4-8d4675784d56",
   "metadata": {},
   "outputs": [],
   "source": []
  },
  {
   "cell_type": "markdown",
   "id": "3de714ae-b4e3-4a69-95c4-caf3c358cf9e",
   "metadata": {},
   "source": [
    "## Now, let's actually evaluate our predictions!"
   ]
  },
  {
   "cell_type": "code",
   "execution_count": 14,
   "id": "06ad1c5a-45a6-4179-8d3c-384d2c7d0948",
   "metadata": {},
   "outputs": [],
   "source": [
    "# let's wrap our evaluation functions here so we can check dataframe subsets easily\n",
    "\n",
    "def evaluate_df(df, title, return_dict: bool = False):\n",
    "    print(f\"\\n{title} {'-'*40}\")\n",
    "    print(f\"N={len(df)}\")\n",
    "\n",
    "    # count our occurences of tp, tn, fp, and fn\n",
    "    tp = df['tp'].sum().item()\n",
    "    tn = df['tn'].sum().item()\n",
    "    fp = df['fp'].sum().item()\n",
    "    fn = df['fn'].sum().item()\n",
    "    \n",
    "    acc = get_accuracy(tp, tn, fp, fn)\n",
    "    auc = get_auroc(df.truth, df.prediction)\n",
    "    prec = get_precision(tp, tn, fp, fn)\n",
    "    rec = get_recall(tp, tn, fp, fn)\n",
    "    f1 = get_f1(prec, rec)\n",
    "    sens = get_sensitivity(tp, tn, fp, fn)\n",
    "    spec = get_specificity(tp, tn, fp, fn)\n",
    "\n",
    "    if return_dict:\n",
    "        eval_dict = {\n",
    "            'accuracy': acc,\n",
    "            'auroc': auc,\n",
    "            'f1': f1,\n",
    "            'sensitivity': sens,\n",
    "            'specificity': spec,\n",
    "        }\n",
    "        return eval_dict\n",
    "    else:\n",
    "        print(f'accuracy:\\t{acc:.3f}')\n",
    "        print(f'auroc:\\t\\t{auc:.3f}')\n",
    "        print(f'f1 score:\\t{f1:.3f}')\n",
    "        print(f'sensitivity:\\t{sens:.3f}')\n",
    "        print(f'specificity:\\t{spec:.3f}')"
   ]
  },
  {
   "cell_type": "code",
   "execution_count": 15,
   "id": "b3996c07-66f2-40a5-9b36-805410602701",
   "metadata": {},
   "outputs": [],
   "source": [
    "# we'll derive the tp, tn, fp, fn labels ourselves to calculate the rest of the metrics\n",
    "\n",
    "def process_prediction(row, threshold: float = 0.5):\n",
    "    \"\"\"\n",
    "    function to threshold the row prediction and determine whether the prediction\n",
    "    is a tp, tn, fp, or fn. assumes the truth is stored in the 'truth' column\n",
    "    and the predicted probability is stored in the 'prediction' column\n",
    "    \"\"\"\n",
    "    binary_pred = int(row.prediction > threshold)\n",
    "\n",
    "    pred_dict = {\n",
    "        'binary_pred': binary_pred,\n",
    "        'tp': int((binary_pred == 1) & (row.truth == 1)),\n",
    "        'tn': int((binary_pred == 0) & (row.truth == 0)),\n",
    "        'fp': int((binary_pred == 1) & (row.truth == 0)),\n",
    "        'fn': int((binary_pred == 0) & (row.truth == 1)),\n",
    "    }\n",
    "    return pred_dict\n",
    "\n",
    "test_preds_df[['binary_pred', 'tp', 'tn', 'fp', 'fn']] = test_preds_df.apply(\n",
    "    process_prediction, \n",
    "    axis='columns', \n",
    "    result_type='expand'\n",
    ")"
   ]
  },
  {
   "cell_type": "code",
   "execution_count": 16,
   "id": "fbb6322f-ac07-4c06-8bb5-ec482864800e",
   "metadata": {},
   "outputs": [
    {
     "data": {
      "text/html": [
       "<div>\n",
       "<style scoped>\n",
       "    .dataframe tbody tr th:only-of-type {\n",
       "        vertical-align: middle;\n",
       "    }\n",
       "\n",
       "    .dataframe tbody tr th {\n",
       "        vertical-align: top;\n",
       "    }\n",
       "\n",
       "    .dataframe thead th {\n",
       "        text-align: right;\n",
       "    }\n",
       "</style>\n",
       "<table border=\"1\" class=\"dataframe\">\n",
       "  <thead>\n",
       "    <tr style=\"text-align: right;\">\n",
       "      <th></th>\n",
       "      <th>prediction</th>\n",
       "      <th>truth</th>\n",
       "      <th>binary_pred</th>\n",
       "      <th>tp</th>\n",
       "      <th>tn</th>\n",
       "      <th>fp</th>\n",
       "      <th>fn</th>\n",
       "    </tr>\n",
       "  </thead>\n",
       "  <tbody>\n",
       "    <tr>\n",
       "      <th>0</th>\n",
       "      <td>0.426943</td>\n",
       "      <td>1</td>\n",
       "      <td>0</td>\n",
       "      <td>0</td>\n",
       "      <td>0</td>\n",
       "      <td>0</td>\n",
       "      <td>1</td>\n",
       "    </tr>\n",
       "    <tr>\n",
       "      <th>1</th>\n",
       "      <td>0.469375</td>\n",
       "      <td>1</td>\n",
       "      <td>0</td>\n",
       "      <td>0</td>\n",
       "      <td>0</td>\n",
       "      <td>0</td>\n",
       "      <td>1</td>\n",
       "    </tr>\n",
       "    <tr>\n",
       "      <th>2</th>\n",
       "      <td>0.288646</td>\n",
       "      <td>1</td>\n",
       "      <td>0</td>\n",
       "      <td>0</td>\n",
       "      <td>0</td>\n",
       "      <td>0</td>\n",
       "      <td>1</td>\n",
       "    </tr>\n",
       "    <tr>\n",
       "      <th>3</th>\n",
       "      <td>0.307292</td>\n",
       "      <td>1</td>\n",
       "      <td>0</td>\n",
       "      <td>0</td>\n",
       "      <td>0</td>\n",
       "      <td>0</td>\n",
       "      <td>1</td>\n",
       "    </tr>\n",
       "    <tr>\n",
       "      <th>4</th>\n",
       "      <td>0.309218</td>\n",
       "      <td>1</td>\n",
       "      <td>0</td>\n",
       "      <td>0</td>\n",
       "      <td>0</td>\n",
       "      <td>0</td>\n",
       "      <td>1</td>\n",
       "    </tr>\n",
       "    <tr>\n",
       "      <th>...</th>\n",
       "      <td>...</td>\n",
       "      <td>...</td>\n",
       "      <td>...</td>\n",
       "      <td>...</td>\n",
       "      <td>...</td>\n",
       "      <td>...</td>\n",
       "      <td>...</td>\n",
       "    </tr>\n",
       "    <tr>\n",
       "      <th>18894</th>\n",
       "      <td>0.391145</td>\n",
       "      <td>0</td>\n",
       "      <td>0</td>\n",
       "      <td>0</td>\n",
       "      <td>1</td>\n",
       "      <td>0</td>\n",
       "      <td>0</td>\n",
       "    </tr>\n",
       "    <tr>\n",
       "      <th>18895</th>\n",
       "      <td>0.346059</td>\n",
       "      <td>0</td>\n",
       "      <td>0</td>\n",
       "      <td>0</td>\n",
       "      <td>1</td>\n",
       "      <td>0</td>\n",
       "      <td>0</td>\n",
       "    </tr>\n",
       "    <tr>\n",
       "      <th>18896</th>\n",
       "      <td>0.319508</td>\n",
       "      <td>0</td>\n",
       "      <td>0</td>\n",
       "      <td>0</td>\n",
       "      <td>1</td>\n",
       "      <td>0</td>\n",
       "      <td>0</td>\n",
       "    </tr>\n",
       "    <tr>\n",
       "      <th>18897</th>\n",
       "      <td>0.371289</td>\n",
       "      <td>0</td>\n",
       "      <td>0</td>\n",
       "      <td>0</td>\n",
       "      <td>1</td>\n",
       "      <td>0</td>\n",
       "      <td>0</td>\n",
       "    </tr>\n",
       "    <tr>\n",
       "      <th>18898</th>\n",
       "      <td>0.323685</td>\n",
       "      <td>0</td>\n",
       "      <td>0</td>\n",
       "      <td>0</td>\n",
       "      <td>1</td>\n",
       "      <td>0</td>\n",
       "      <td>0</td>\n",
       "    </tr>\n",
       "  </tbody>\n",
       "</table>\n",
       "<p>18899 rows × 7 columns</p>\n",
       "</div>"
      ],
      "text/plain": [
       "       prediction  truth  binary_pred  tp  tn  fp  fn\n",
       "0        0.426943      1            0   0   0   0   1\n",
       "1        0.469375      1            0   0   0   0   1\n",
       "2        0.288646      1            0   0   0   0   1\n",
       "3        0.307292      1            0   0   0   0   1\n",
       "4        0.309218      1            0   0   0   0   1\n",
       "...           ...    ...          ...  ..  ..  ..  ..\n",
       "18894    0.391145      0            0   0   1   0   0\n",
       "18895    0.346059      0            0   0   1   0   0\n",
       "18896    0.319508      0            0   0   1   0   0\n",
       "18897    0.371289      0            0   0   1   0   0\n",
       "18898    0.323685      0            0   0   1   0   0\n",
       "\n",
       "[18899 rows x 7 columns]"
      ]
     },
     "execution_count": 16,
     "metadata": {},
     "output_type": "execute_result"
    }
   ],
   "source": [
    "test_preds_df[['prediction', 'truth', 'binary_pred', 'tp', 'tn', 'fp', 'fn']]"
   ]
  },
  {
   "cell_type": "code",
   "execution_count": 17,
   "id": "e8b254f3-bcbc-4f1e-b1e8-4abd2c10acf3",
   "metadata": {
    "scrolled": true
   },
   "outputs": [
    {
     "name": "stdout",
     "output_type": "stream",
     "text": [
      "              precision    recall  f1-score   support\n",
      "\n",
      "           0       0.65      0.97      0.78     12146\n",
      "           1       0.58      0.07      0.12      6753\n",
      "\n",
      "    accuracy                           0.65     18899\n",
      "   macro avg       0.61      0.52      0.45     18899\n",
      "weighted avg       0.62      0.65      0.54     18899\n",
      "\n"
     ]
    }
   ],
   "source": [
    "print(classification_report(test_preds_df.truth, test_preds_df.binary_pred))"
   ]
  },
  {
   "cell_type": "code",
   "execution_count": 18,
   "id": "f14004b9-b900-4e82-9269-18b2a133d8e6",
   "metadata": {},
   "outputs": [
    {
     "data": {
      "text/plain": [
       "<sklearn.metrics._plot.confusion_matrix.ConfusionMatrixDisplay at 0x7875938d56d0>"
      ]
     },
     "execution_count": 18,
     "metadata": {},
     "output_type": "execute_result"
    },
    {
     "data": {
      "image/png": "[encoded data removed]",
      "text/plain": [
       "<Figure size 640x480 with 2 Axes>"
      ]
     },
     "metadata": {},
     "output_type": "display_data"
    }
   ],
   "source": [
    "ConfusionMatrixDisplay(confusion_matrix(test_preds_df.truth, test_preds_df.binary_pred)).plot()"
   ]
  },
  {
   "cell_type": "code",
   "execution_count": 19,
   "id": "b46dbdab-59d9-4827-b08c-c9ba4c0fd712",
   "metadata": {},
   "outputs": [
    {
     "name": "stdout",
     "output_type": "stream",
     "text": [
      "\n",
      "full dataframe ----------------------------------------\n",
      "N=18899\n",
      "accuracy:\t0.649\n",
      "auroc:\t\t0.629\n",
      "f1 score:\t0.117\n",
      "sensitivity:\t0.065\n",
      "specificity:\t0.973\n"
     ]
    }
   ],
   "source": [
    "evaluate_df(test_preds_df, 'full dataframe')"
   ]
  },
  {
   "cell_type": "raw",
   "id": "a099ee93-a7d6-4926-8243-3619a11588b2",
   "metadata": {},
   "source": []
  },
  {
   "cell_type": "code",
   "execution_count": null,
   "id": "8a9358a6-1e20-4789-b614-d752f7cbc739",
   "metadata": {},
   "outputs": [],
   "source": []
  },
  {
   "cell_type": "code",
   "execution_count": 31,
   "id": "e8ed267f-3b82-41f9-b05d-e0d24c141925",
   "metadata": {},
   "outputs": [
    {
     "name": "stdout",
     "output_type": "stream",
     "text": [
      "\n",
      "rebalanced dataframe ----------------------------------------\n",
      "N=12246\n",
      "accuracy:\t0.966\n",
      "auroc:\t\t0.636\n",
      "f1 score:\t0.019\n",
      "sensitivity:\t0.040\n",
      "specificity:\t0.973\n"
     ]
    }
   ],
   "source": [
    "# artificially rebalance our classes to see how it affects results\n",
    "neg_subset_df = test_preds_df[test_preds_df.truth == 0]\n",
    "pos_subset_df = test_preds_df[test_preds_df.truth == 1].sample(100)\n",
    "\n",
    "evaluate_df(pd.concat([neg_subset_df, pos_subset_df]), 'rebalanced dataframe')"
   ]
  },
  {
   "cell_type": "code",
   "execution_count": null,
   "id": "5663aa60-d4b6-4737-9465-ec0ad964e1c9",
   "metadata": {},
   "outputs": [],
   "source": []
  },
  {
   "cell_type": "markdown",
   "id": "52cd6ae6-da3b-4d0b-bd05-d1f095961ec3",
   "metadata": {},
   "source": [
    "---\n",
    "# 2.0 Subgroup Evaluation"
   ]
  },
  {
   "cell_type": "markdown",
   "id": "2436ac02-9d4d-494c-97d0-424d2c721638",
   "metadata": {},
   "source": [
    "## 2.1 Feature Cleaning"
   ]
  },
  {
   "cell_type": "markdown",
   "id": "23f51e35-1916-4299-a717-56dc9ead6ffb",
   "metadata": {},
   "source": [
    "### 2.1.1 Patient Race and Ethnicity"
   ]
  },
  {
   "cell_type": "code",
   "execution_count": 20,
   "id": "79897b83-dbdf-4fb3-a942-c606c13800c3",
   "metadata": {},
   "outputs": [],
   "source": [
    "def bin_ethnicity(df):\n",
    "    # bin ethnicity\n",
    "    df['ETHNIC_GROUP_DESC'].str.strip()\n",
    "    df.loc[:, 'Ethnicity'] = 'Unknown'\n",
    "    not_hispanic_list = ['Non-Hispanic or Latino', 'Non-Hispanic~Unknown', 'Unknown~Non-Hispanic']\n",
    "    df.loc[df['ETHNIC_GROUP_DESC'].isin(not_hispanic_list), 'Ethnicity'] = 'Not Hispanic or Latino'\n",
    "\n",
    "    hispanic_list = ['Hispanic or Latino', 'Unknown~Hispanic']\n",
    "    df.loc[df['ETHNIC_GROUP_DESC'].isin(hispanic_list), 'Ethnicity'] = 'Hispanic or Latino'\n",
    "    return df\n",
    "\n",
    "def bin_race(df):\n",
    "    # bin race\n",
    "    df['ETHNICITY_DESC'].str.strip()\n",
    "    df.loc[:, 'Race'] = 'Other'\n",
    "    df.loc[df['ETHNICITY_DESC'] == \"African American  or Black\", 'Race'] = 'Black'\n",
    "    df.loc[df['ETHNICITY_DESC'] == \"Caucasian or White\", 'Race'] = 'White'\n",
    "    df.loc[df['ETHNICITY_DESC'] == \"Asian\", 'Race'] = 'Asian'\n",
    "    df.loc[df['ETHNICITY_DESC'] == \"Unknown, Unavailable or Unreported\", 'Race'] = 'Unknown'\n",
    "    return df\n",
    "\n",
    "test_preds_df = bin_ethnicity(test_preds_df)\n",
    "test_preds_df = bin_race(test_preds_df)"
   ]
  },
  {
   "cell_type": "markdown",
   "id": "d88944e6-6f18-4b4d-90a7-8d3052b8f94a",
   "metadata": {},
   "source": [
    "### 2.1.2 Imaging Findings"
   ]
  },
  {
   "cell_type": "code",
   "execution_count": 21,
   "id": "1c7b929f-7edf-43cb-95ad-2e12383d0ed1",
   "metadata": {},
   "outputs": [],
   "source": [
    "def extract_findings(row):\n",
    "    # output imaging features coded as either 0: absent or 1: present\n",
    "    findings_dict = {\n",
    "        'mass': 0,\n",
    "        'asymmetry': 0,\n",
    "        'arch_distortion': 0,\n",
    "        'calcification': 0\n",
    "    }\n",
    "\n",
    "    if (row['massshape'] in ['G', 'R', 'O', 'X', 'N', 'Y', 'D', 'L']) or\\\n",
    "    (row['massmargin'] in ['D', 'U', 'M', 'I', 'S']) or\\\n",
    "    (row['massdens'] in ['+', '-', '=']):\n",
    "        findings_dict['mass'] = 1\n",
    "\n",
    "    if row['massshape'] in ['T', 'B', 'S', 'F', 'V']:\n",
    "        findings_dict['asymmetry'] = 1\n",
    "\n",
    "    if row['massshape']in ['Q', 'A']:\n",
    "        findings_dict['arch_distortion'] = 1\n",
    "\n",
    "    if (row['calcdistri'] is not np.nan) or\\\n",
    "    (row['calcfind'] is not np.nan) or\\\n",
    "    (row['calcnumber'] != 0):\n",
    "        findings_dict['calcification'] = 1\n",
    "\n",
    "    return findings_dict\n",
    "\n",
    "test_preds_df[['mass', 'asymmetry', 'arch_distortion', 'calcification']] = test_preds_df.apply(\n",
    "    extract_findings, \n",
    "    axis='columns', \n",
    "    result_type='expand'\n",
    ")"
   ]
  },
  {
   "cell_type": "markdown",
   "id": "4c18e0a4-cc38-4b9b-8b69-bd17cf596a4b",
   "metadata": {},
   "source": [
    "### 2.1.3 Patient Age Bins"
   ]
  },
  {
   "cell_type": "code",
   "execution_count": 22,
   "id": "a25d5bd6-96dd-40ba-9e97-f1a1b90bb1df",
   "metadata": {},
   "outputs": [],
   "source": [
    "def bin_feature(df, feature, bin_interval_dict):\n",
    "    # get binned feature name\n",
    "    binned_feature = f\"{feature}_bins\"\n",
    "\n",
    "    # initialize binned feature\n",
    "    df[binned_feature] = 'nan'\n",
    "\n",
    "    # iterate over intervals defined in the interval dictionary\n",
    "    for level_name, (interval_min, interval_max) in bin_interval_dict.items():\n",
    "        df_mask = (df[feature] >= interval_min) & (df[feature] < interval_max)\n",
    "        df.loc[df_mask, binned_feature] = level_name\n",
    "\n",
    "    return df\n",
    "\n",
    "bin_intervals = {\n",
    "    '<40': (0, 40),\n",
    "    '40-60': (40, 60),\n",
    "    '>=60': (60, 200)\n",
    "}\n",
    "\n",
    "test_preds_df = bin_feature(test_preds_df, 'age_at_study', bin_intervals)"
   ]
  },
  {
   "cell_type": "markdown",
   "id": "8f4ccdf0-85bb-449d-9660-fe5debdd4100",
   "metadata": {},
   "source": [
    "## 2.2 Univariate Evaluation\n",
    "The simplest univariate evaluation most people do is to stratify model performance by some demographic category."
   ]
  },
  {
   "cell_type": "code",
   "execution_count": 23,
   "id": "deca0aa0-4ffd-4aa8-a612-65b52e5b8072",
   "metadata": {},
   "outputs": [
    {
     "name": "stdout",
     "output_type": "stream",
     "text": [
      "\n",
      "Race == White ----------------------------------------\n",
      "N=7476\n",
      "\n",
      "Race == Black ----------------------------------------\n",
      "N=8089\n",
      "\n",
      "Race == Unknown ----------------------------------------\n",
      "N=1793\n",
      "\n",
      "Race == Asian ----------------------------------------\n",
      "N=1189\n",
      "\n",
      "Race == Other ----------------------------------------\n",
      "N=352\n"
     ]
    },
    {
     "data": {
      "image/png": "[encoded data removed]",
      "text/plain": [
       "<Figure size 640x480 with 1 Axes>"
      ]
     },
     "metadata": {},
     "output_type": "display_data"
    }
   ],
   "source": [
    "import matplotlib.pyplot as plt\n",
    "import math\n",
    "\n",
    "stratify_feature = 'tissueden'\n",
    "target_metric = 'accuracy'\n",
    "\n",
    "def univariate_analysis(df, stratify_feature, target_metric):\n",
    "    feature_levels = df[stratify_feature].unique().tolist()\n",
    "    feature_levels = [f for f in feature_levels if str(f) != 'nan']\n",
    "    \n",
    "    output_dict = dict()\n",
    "    \n",
    "    for current_level in feature_levels:\n",
    "        subset_df = df[df[stratify_feature] == current_level]\n",
    "        level_dict = evaluate_df(subset_df, f'{stratify_feature} == {current_level}', return_dict=True)\n",
    "        output_dict[current_level] = level_dict\n",
    "    \n",
    "    metric_dict = {feature_level:level_dict[target_metric] for feature_level,level_dict in output_dict.items()}\n",
    "    \n",
    "    # function to add value labels\n",
    "    def addlabels(x,y):\n",
    "        for i in range(len(x)):\n",
    "            plt.text(i, y[i], format(y[i], '.3f'), ha = 'center',\n",
    "                 bbox = dict(facecolor = 'white', alpha =.8))\n",
    "    \n",
    "    plt.xlabel(stratify_feature)\n",
    "    plt.ylabel(target_metric.title())\n",
    "    \n",
    "    x = list(metric_dict.keys())\n",
    "    y = list(metric_dict.values())\n",
    "    \n",
    "    plt.bar([str(i) for i in x], y)\n",
    "    addlabels(x, y)\n",
    "    plt.show()\n",
    "\n",
    "univariate_analysis(test_preds_df, stratify_feature='Race', target_metric='f1')"
   ]
  },
  {
   "cell_type": "markdown",
   "id": "726659b2-f540-4a33-a2b4-e54c8b9f8b13",
   "metadata": {},
   "source": [
    "> ## Question\n",
    ">\n",
    "> **What are some problems we could run into with a univariate approach?**"
   ]
  },
  {
   "cell_type": "code",
   "execution_count": null,
   "id": "638e3e6b-b616-4320-b4d6-0df44264c4b9",
   "metadata": {},
   "outputs": [],
   "source": []
  },
  {
   "cell_type": "code",
   "execution_count": null,
   "id": "18d76ac5-2a71-457a-8bc0-d24a656fba77",
   "metadata": {},
   "outputs": [],
   "source": []
  },
  {
   "cell_type": "code",
   "execution_count": null,
   "id": "411e5cc8-753a-41f5-9087-d0cc64f22824",
   "metadata": {},
   "outputs": [],
   "source": []
  },
  {
   "cell_type": "markdown",
   "id": "e0861431-c284-4d8f-bbe2-1646a08da67f",
   "metadata": {},
   "source": [
    "![confounding_basics](images/confounding_basics.png)"
   ]
  },
  {
   "cell_type": "code",
   "execution_count": null,
   "id": "c94fd513-70fd-4400-9847-2738d49a7bc3",
   "metadata": {},
   "outputs": [],
   "source": []
  },
  {
   "cell_type": "code",
   "execution_count": null,
   "id": "6a83abd6-c88c-40c6-bd10-e81dd537f786",
   "metadata": {},
   "outputs": [],
   "source": []
  },
  {
   "cell_type": "code",
   "execution_count": null,
   "id": "059309a0-6301-4684-9476-5c4cf437d1a6",
   "metadata": {},
   "outputs": [],
   "source": []
  },
  {
   "cell_type": "markdown",
   "id": "bb74c969-889f-4d1c-8123-9550db4c2cac",
   "metadata": {},
   "source": [
    "## 2.3 Multivariate Evaluation\n",
    "Multivariate evaluation is much more complex (talk to a statistician!!), but it can be more effective at identifying which features are associated with performance differences and allows confounders to be accounted for."
   ]
  },
  {
   "cell_type": "code",
   "execution_count": 29,
   "id": "a141956e-ebdf-4337-afbc-6e317b3a5296",
   "metadata": {},
   "outputs": [
    {
     "data": {
      "text/html": [
       "<table class=\"simpletable\">\n",
       "<caption>Generalized Linear Model Regression Results</caption>\n",
       "<tr>\n",
       "  <th>Dep. Variable:</th>   <td>['incorrect[False]', 'incorrect[True]']</td> <th>  No. Observations:  </th>  <td> 18834</td> \n",
       "</tr>\n",
       "<tr>\n",
       "  <th>Model:</th>                             <td>GLM</td>                   <th>  Df Residuals:      </th>  <td> 18825</td> \n",
       "</tr>\n",
       "<tr>\n",
       "  <th>Model Family:</th>                   <td>Binomial</td>                 <th>  Df Model:          </th>  <td>     8</td> \n",
       "</tr>\n",
       "<tr>\n",
       "  <th>Link Function:</th>                    <td>Logit</td>                  <th>  Scale:             </th> <td>  1.0000</td>\n",
       "</tr>\n",
       "<tr>\n",
       "  <th>Method:</th>                           <td>IRLS</td>                   <th>  Log-Likelihood:    </th> <td> -12063.</td>\n",
       "</tr>\n",
       "<tr>\n",
       "  <th>Date:</th>                       <td>Wed, 21 Aug 2024</td>             <th>  Deviance:          </th> <td>  24126.</td>\n",
       "</tr>\n",
       "<tr>\n",
       "  <th>Time:</th>                           <td>18:32:09</td>                 <th>  Pearson chi2:      </th> <td>1.88e+04</td>\n",
       "</tr>\n",
       "<tr>\n",
       "  <th>No. Iterations:</th>                    <td>21</td>                    <th>  Pseudo R-squ. (CS):</th>  <td>0.01471</td>\n",
       "</tr>\n",
       "<tr>\n",
       "  <th>Covariance Type:</th>                <td>nonrobust</td>                <th>                     </th>     <td> </td>   \n",
       "</tr>\n",
       "</table>\n",
       "<table class=\"simpletable\">\n",
       "<tr>\n",
       "          <td></td>            <th>coef</th>     <th>std err</th>      <th>z</th>      <th>P>|z|</th>  <th>[0.025</th>    <th>0.975]</th>  \n",
       "</tr>\n",
       "<tr>\n",
       "  <th>Intercept</th>        <td>    1.2922</td> <td>    0.081</td> <td>   15.999</td> <td> 0.000</td> <td>    1.134</td> <td>    1.450</td>\n",
       "</tr>\n",
       "<tr>\n",
       "  <th>Race[T.Black]</th>    <td>   -0.3968</td> <td>    0.067</td> <td>   -5.891</td> <td> 0.000</td> <td>   -0.529</td> <td>   -0.265</td>\n",
       "</tr>\n",
       "<tr>\n",
       "  <th>Race[T.Other]</th>    <td>   -0.5433</td> <td>    0.125</td> <td>   -4.352</td> <td> 0.000</td> <td>   -0.788</td> <td>   -0.299</td>\n",
       "</tr>\n",
       "<tr>\n",
       "  <th>Race[T.Unknown]</th>  <td>    0.1060</td> <td>    0.082</td> <td>    1.299</td> <td> 0.194</td> <td>   -0.054</td> <td>    0.266</td>\n",
       "</tr>\n",
       "<tr>\n",
       "  <th>Race[T.White]</th>    <td>   -0.1014</td> <td>    0.067</td> <td>   -1.503</td> <td> 0.133</td> <td>   -0.234</td> <td>    0.031</td>\n",
       "</tr>\n",
       "<tr>\n",
       "  <th>tissueden[T.2.0]</th> <td>   -0.3871</td> <td>    0.054</td> <td>   -7.154</td> <td> 0.000</td> <td>   -0.493</td> <td>   -0.281</td>\n",
       "</tr>\n",
       "<tr>\n",
       "  <th>tissueden[T.3.0]</th> <td>   -0.6528</td> <td>    0.054</td> <td>  -12.002</td> <td> 0.000</td> <td>   -0.759</td> <td>   -0.546</td>\n",
       "</tr>\n",
       "<tr>\n",
       "  <th>tissueden[T.4.0]</th> <td>   -0.4994</td> <td>    0.086</td> <td>   -5.837</td> <td> 0.000</td> <td>   -0.667</td> <td>   -0.332</td>\n",
       "</tr>\n",
       "<tr>\n",
       "  <th>tissueden[T.5.0]</th> <td>   21.6707</td> <td> 1.82e+04</td> <td>    0.001</td> <td> 0.999</td> <td>-3.57e+04</td> <td> 3.57e+04</td>\n",
       "</tr>\n",
       "</table>"
      ],
      "text/latex": [
       "\\begin{center}\n",
       "\\begin{tabular}{lclc}\n",
       "\\toprule\n",
       "\\textbf{Dep. Variable:}   & ['incorrect[False]', 'incorrect[True]'] & \\textbf{  No. Observations:  } &    18834    \\\\\n",
       "\\textbf{Model:}           &                   GLM                   & \\textbf{  Df Residuals:      } &    18825    \\\\\n",
       "\\textbf{Model Family:}    &                 Binomial                & \\textbf{  Df Model:          } &        8    \\\\\n",
       "\\textbf{Link Function:}   &                  Logit                  & \\textbf{  Scale:             } &    1.0000   \\\\\n",
       "\\textbf{Method:}          &                   IRLS                  & \\textbf{  Log-Likelihood:    } &   -12063.   \\\\\n",
       "\\textbf{Date:}            &             Wed, 21 Aug 2024            & \\textbf{  Deviance:          } &    24126.   \\\\\n",
       "\\textbf{Time:}            &                 18:32:09                & \\textbf{  Pearson chi2:      } &  1.88e+04   \\\\\n",
       "\\textbf{No. Iterations:}  &                    21                   & \\textbf{  Pseudo R-squ. (CS):} &  0.01471    \\\\\n",
       "\\textbf{Covariance Type:} &                nonrobust                & \\textbf{                     } &             \\\\\n",
       "\\bottomrule\n",
       "\\end{tabular}\n",
       "\\begin{tabular}{lcccccc}\n",
       "                          & \\textbf{coef} & \\textbf{std err} & \\textbf{z} & \\textbf{P$> |$z$|$} & \\textbf{[0.025} & \\textbf{0.975]}  \\\\\n",
       "\\midrule\n",
       "\\textbf{Intercept}        &       1.2922  &        0.081     &    15.999  &         0.000        &        1.134    &        1.450     \\\\\n",
       "\\textbf{Race[T.Black]}    &      -0.3968  &        0.067     &    -5.891  &         0.000        &       -0.529    &       -0.265     \\\\\n",
       "\\textbf{Race[T.Other]}    &      -0.5433  &        0.125     &    -4.352  &         0.000        &       -0.788    &       -0.299     \\\\\n",
       "\\textbf{Race[T.Unknown]}  &       0.1060  &        0.082     &     1.299  &         0.194        &       -0.054    &        0.266     \\\\\n",
       "\\textbf{Race[T.White]}    &      -0.1014  &        0.067     &    -1.503  &         0.133        &       -0.234    &        0.031     \\\\\n",
       "\\textbf{tissueden[T.2.0]} &      -0.3871  &        0.054     &    -7.154  &         0.000        &       -0.493    &       -0.281     \\\\\n",
       "\\textbf{tissueden[T.3.0]} &      -0.6528  &        0.054     &   -12.002  &         0.000        &       -0.759    &       -0.546     \\\\\n",
       "\\textbf{tissueden[T.4.0]} &      -0.4994  &        0.086     &    -5.837  &         0.000        &       -0.667    &       -0.332     \\\\\n",
       "\\textbf{tissueden[T.5.0]} &      21.6707  &     1.82e+04     &     0.001  &         0.999        &    -3.57e+04    &     3.57e+04     \\\\\n",
       "\\bottomrule\n",
       "\\end{tabular}\n",
       "%\\caption{Generalized Linear Model Regression Results}\n",
       "\\end{center}"
      ],
      "text/plain": [
       "<class 'statsmodels.iolib.summary.Summary'>\n",
       "\"\"\"\n",
       "                            Generalized Linear Model Regression Results                            \n",
       "===================================================================================================\n",
       "Dep. Variable:     ['incorrect[False]', 'incorrect[True]']   No. Observations:                18834\n",
       "Model:                                                 GLM   Df Residuals:                    18825\n",
       "Model Family:                                     Binomial   Df Model:                            8\n",
       "Link Function:                                       Logit   Scale:                          1.0000\n",
       "Method:                                               IRLS   Log-Likelihood:                -12063.\n",
       "Date:                                     Wed, 21 Aug 2024   Deviance:                       24126.\n",
       "Time:                                             18:32:09   Pearson chi2:                 1.88e+04\n",
       "No. Iterations:                                         21   Pseudo R-squ. (CS):            0.01471\n",
       "Covariance Type:                                 nonrobust                                         \n",
       "====================================================================================\n",
       "                       coef    std err          z      P>|z|      [0.025      0.975]\n",
       "------------------------------------------------------------------------------------\n",
       "Intercept            1.2922      0.081     15.999      0.000       1.134       1.450\n",
       "Race[T.Black]       -0.3968      0.067     -5.891      0.000      -0.529      -0.265\n",
       "Race[T.Other]       -0.5433      0.125     -4.352      0.000      -0.788      -0.299\n",
       "Race[T.Unknown]      0.1060      0.082      1.299      0.194      -0.054       0.266\n",
       "Race[T.White]       -0.1014      0.067     -1.503      0.133      -0.234       0.031\n",
       "tissueden[T.2.0]    -0.3871      0.054     -7.154      0.000      -0.493      -0.281\n",
       "tissueden[T.3.0]    -0.6528      0.054    -12.002      0.000      -0.759      -0.546\n",
       "tissueden[T.4.0]    -0.4994      0.086     -5.837      0.000      -0.667      -0.332\n",
       "tissueden[T.5.0]    21.6707   1.82e+04      0.001      0.999   -3.57e+04    3.57e+04\n",
       "====================================================================================\n",
       "\"\"\""
      ]
     },
     "execution_count": 29,
     "metadata": {},
     "output_type": "execute_result"
    }
   ],
   "source": [
    "import statsmodels.api as sm\n",
    "\n",
    "test_preds_df['tissueden'] = test_preds_df.tissueden.astype(str)\n",
    "test_preds_df['incorrect'] = test_preds_df.truth != test_preds_df.binary_pred\n",
    "\n",
    "# lets use the generalized linear model from the statsmodels package to check this\n",
    "# \n",
    "sm.formula.glm(\"incorrect ~ Race + tissueden\", family=sm.families.Binomial(), data=test_preds_df).fit().summary()"
   ]
  },
  {
   "cell_type": "code",
   "execution_count": 30,
   "id": "c6ba812b-67c1-44cb-be5f-e9bd06e46efb",
   "metadata": {},
   "outputs": [
    {
     "data": {
      "text/html": [
       "<table class=\"simpletable\">\n",
       "<caption>Generalized Linear Model Regression Results</caption>\n",
       "<tr>\n",
       "  <th>Dep. Variable:</th>          <td>fn</td>        <th>  No. Observations:  </th>  <td> 18899</td> \n",
       "</tr>\n",
       "<tr>\n",
       "  <th>Model:</th>                  <td>GLM</td>       <th>  Df Residuals:      </th>  <td> 18894</td> \n",
       "</tr>\n",
       "<tr>\n",
       "  <th>Model Family:</th>        <td>Binomial</td>     <th>  Df Model:          </th>  <td>     4</td> \n",
       "</tr>\n",
       "<tr>\n",
       "  <th>Link Function:</th>         <td>Logit</td>      <th>  Scale:             </th> <td>  1.0000</td>\n",
       "</tr>\n",
       "<tr>\n",
       "  <th>Method:</th>                <td>IRLS</td>       <th>  Log-Likelihood:    </th> <td> -6166.2</td>\n",
       "</tr>\n",
       "<tr>\n",
       "  <th>Date:</th>            <td>Wed, 21 Aug 2024</td> <th>  Deviance:          </th> <td>  12332.</td>\n",
       "</tr>\n",
       "<tr>\n",
       "  <th>Time:</th>                <td>18:33:07</td>     <th>  Pearson chi2:      </th> <td>7.12e+04</td>\n",
       "</tr>\n",
       "<tr>\n",
       "  <th>No. Iterations:</th>          <td>6</td>        <th>  Pseudo R-squ. (CS):</th>  <td>0.4628</td> \n",
       "</tr>\n",
       "<tr>\n",
       "  <th>Covariance Type:</th>     <td>nonrobust</td>    <th>                     </th>     <td> </td>   \n",
       "</tr>\n",
       "</table>\n",
       "<table class=\"simpletable\">\n",
       "<tr>\n",
       "         <td></td>            <th>coef</th>     <th>std err</th>      <th>z</th>      <th>P>|z|</th>  <th>[0.025</th>    <th>0.975]</th>  \n",
       "</tr>\n",
       "<tr>\n",
       "  <th>Intercept</th>       <td>   -2.4049</td> <td>    0.032</td> <td>  -74.424</td> <td> 0.000</td> <td>   -2.468</td> <td>   -2.342</td>\n",
       "</tr>\n",
       "<tr>\n",
       "  <th>mass</th>            <td>    2.9288</td> <td>    0.072</td> <td>   40.523</td> <td> 0.000</td> <td>    2.787</td> <td>    3.070</td>\n",
       "</tr>\n",
       "<tr>\n",
       "  <th>asymmetry</th>       <td>    4.5975</td> <td>    0.069</td> <td>   66.258</td> <td> 0.000</td> <td>    4.461</td> <td>    4.733</td>\n",
       "</tr>\n",
       "<tr>\n",
       "  <th>arch_distortion</th> <td>    5.1504</td> <td>    0.233</td> <td>   22.113</td> <td> 0.000</td> <td>    4.694</td> <td>    5.607</td>\n",
       "</tr>\n",
       "<tr>\n",
       "  <th>calcification</th>   <td>    3.7571</td> <td>    0.068</td> <td>   55.275</td> <td> 0.000</td> <td>    3.624</td> <td>    3.890</td>\n",
       "</tr>\n",
       "</table>"
      ],
      "text/latex": [
       "\\begin{center}\n",
       "\\begin{tabular}{lclc}\n",
       "\\toprule\n",
       "\\textbf{Dep. Variable:}   &        fn        & \\textbf{  No. Observations:  } &    18899    \\\\\n",
       "\\textbf{Model:}           &       GLM        & \\textbf{  Df Residuals:      } &    18894    \\\\\n",
       "\\textbf{Model Family:}    &     Binomial     & \\textbf{  Df Model:          } &        4    \\\\\n",
       "\\textbf{Link Function:}   &      Logit       & \\textbf{  Scale:             } &    1.0000   \\\\\n",
       "\\textbf{Method:}          &       IRLS       & \\textbf{  Log-Likelihood:    } &   -6166.2   \\\\\n",
       "\\textbf{Date:}            & Wed, 21 Aug 2024 & \\textbf{  Deviance:          } &    12332.   \\\\\n",
       "\\textbf{Time:}            &     18:33:07     & \\textbf{  Pearson chi2:      } &  7.12e+04   \\\\\n",
       "\\textbf{No. Iterations:}  &        6         & \\textbf{  Pseudo R-squ. (CS):} &   0.4628    \\\\\n",
       "\\textbf{Covariance Type:} &    nonrobust     & \\textbf{                     } &             \\\\\n",
       "\\bottomrule\n",
       "\\end{tabular}\n",
       "\\begin{tabular}{lcccccc}\n",
       "                          & \\textbf{coef} & \\textbf{std err} & \\textbf{z} & \\textbf{P$> |$z$|$} & \\textbf{[0.025} & \\textbf{0.975]}  \\\\\n",
       "\\midrule\n",
       "\\textbf{Intercept}        &      -2.4049  &        0.032     &   -74.424  &         0.000        &       -2.468    &       -2.342     \\\\\n",
       "\\textbf{mass}             &       2.9288  &        0.072     &    40.523  &         0.000        &        2.787    &        3.070     \\\\\n",
       "\\textbf{asymmetry}        &       4.5975  &        0.069     &    66.258  &         0.000        &        4.461    &        4.733     \\\\\n",
       "\\textbf{arch\\_distortion} &       5.1504  &        0.233     &    22.113  &         0.000        &        4.694    &        5.607     \\\\\n",
       "\\textbf{calcification}    &       3.7571  &        0.068     &    55.275  &         0.000        &        3.624    &        3.890     \\\\\n",
       "\\bottomrule\n",
       "\\end{tabular}\n",
       "%\\caption{Generalized Linear Model Regression Results}\n",
       "\\end{center}"
      ],
      "text/plain": [
       "<class 'statsmodels.iolib.summary.Summary'>\n",
       "\"\"\"\n",
       "                 Generalized Linear Model Regression Results                  \n",
       "==============================================================================\n",
       "Dep. Variable:                     fn   No. Observations:                18899\n",
       "Model:                            GLM   Df Residuals:                    18894\n",
       "Model Family:                Binomial   Df Model:                            4\n",
       "Link Function:                  Logit   Scale:                          1.0000\n",
       "Method:                          IRLS   Log-Likelihood:                -6166.2\n",
       "Date:                Wed, 21 Aug 2024   Deviance:                       12332.\n",
       "Time:                        18:33:07   Pearson chi2:                 7.12e+04\n",
       "No. Iterations:                     6   Pseudo R-squ. (CS):             0.4628\n",
       "Covariance Type:            nonrobust                                         \n",
       "===================================================================================\n",
       "                      coef    std err          z      P>|z|      [0.025      0.975]\n",
       "-----------------------------------------------------------------------------------\n",
       "Intercept          -2.4049      0.032    -74.424      0.000      -2.468      -2.342\n",
       "mass                2.9288      0.072     40.523      0.000       2.787       3.070\n",
       "asymmetry           4.5975      0.069     66.258      0.000       4.461       4.733\n",
       "arch_distortion     5.1504      0.233     22.113      0.000       4.694       5.607\n",
       "calcification       3.7571      0.068     55.275      0.000       3.624       3.890\n",
       "===================================================================================\n",
       "\"\"\""
      ]
     },
     "execution_count": 30,
     "metadata": {},
     "output_type": "execute_result"
    }
   ],
   "source": [
    "sm.formula.glm(\n",
    "    \"fn ~ mass + asymmetry + arch_distortion + calcification\", \n",
    "    family=sm.families.Binomial(), \n",
    "    data=test_preds_df\n",
    ").fit().summary()"
   ]
  },
  {
   "cell_type": "code",
   "execution_count": null,
   "id": "4e552d28-07aa-4efe-bf59-e2f804325ba9",
   "metadata": {},
   "outputs": [],
   "source": []
  },
  {
   "cell_type": "markdown",
   "id": "1ededa27-19d0-438c-a726-191cc50518d1",
   "metadata": {},
   "source": [
    "---\n",
    "# 3.0 Modeling Best Practices"
   ]
  },
  {
   "cell_type": "markdown",
   "id": "b721de81-8de8-4661-bdc3-46e612b17237",
   "metadata": {},
   "source": [
    "## \"All models are wrong, but some are useful\" \n",
    "**George E. P. Box**\n",
    "\n",
    "### How can we maximize model utility?"
   ]
  },
  {
   "cell_type": "markdown",
   "id": "4e53ad62-6a02-47e4-ab99-0f8f66903494",
   "metadata": {},
   "source": [
    "---"
   ]
  },
  {
   "cell_type": "markdown",
   "id": "94420fda-6e18-4bfe-b9b0-967470cf385f",
   "metadata": {},
   "source": [
    "### [Modeling Scenario Activity]\n",
    "For each scenario, consider the following:\n",
    "1. Could this approach pose any problems?\n",
    "2. If so, how can we address them?\n",
    "\n",
    "### Scenarios:\n",
    "1. You're training a classification model and are building your data pipeline to preprocess and transform your images. You pool your train, validation, and test sets then calculate their mean and standard deviation to normalize all of your images. You further select random cropping, random flipping, gaussian blur, and color shifting transformations and apply them to all of your images in your sets.\n",
    "   \n",
    "2. You're working on an abnormality localization (segmentation) model, so you choose to first pre-train your model on patch images to form the backbone (encoder) of your model. You then plan to randomly split your full dataset into train/val/test partitions and finetune your model on the full images.\n",
    "   \n",
    "3. You're working on a cancer classification model. You tune its hyperparameters to find the set that maximizes your test performance metrics, then you try multiple random seeds and report the maximum test performance you achieved.\n",
    "\n",
    "   \n",
    "4. You're training a classification model to identify a specific type of rare cancer. Your dataset is heavily imbalanced, so you undersample your majority class and re-balance your data so you have a 50%/50% positive/negative split. You train, validate, and evaluate your model on this data. You achieve impressive performance on your data so you recommend deployment in a clinical setting."
   ]
  }
 ],
 "metadata": {
  "kernelspec": {
   "display_name": "pandas",
   "language": "python",
   "name": "pandas"
  },
  "language_info": {
   "codemirror_mode": {
    "name": "ipython",
    "version": 3
   },
   "file_extension": ".py",
   "mimetype": "text/x-python",
   "name": "python",
   "nbconvert_exporter": "python",
   "pygments_lexer": "ipython3",
   "version": "3.11.9"
  }
 },
 "nbformat": 4,
 "nbformat_minor": 5
}
